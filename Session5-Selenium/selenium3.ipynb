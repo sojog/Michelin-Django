{
 "cells": [
  {
   "cell_type": "code",
   "execution_count": 3,
   "metadata": {},
   "outputs": [],
   "source": [
    "from selenium import webdriver\n",
    "from selenium.webdriver.common.by import By"
   ]
  },
  {
   "cell_type": "code",
   "execution_count": 4,
   "metadata": {},
   "outputs": [],
   "source": [
    "url = \"https://wordly.org/\" "
   ]
  },
  {
   "cell_type": "code",
   "execution_count": 5,
   "metadata": {},
   "outputs": [],
   "source": [
    "browser = webdriver.Chrome()\n",
    "browser.get(url)"
   ]
  },
  {
   "cell_type": "code",
   "execution_count": 6,
   "metadata": {},
   "outputs": [],
   "source": [
    "WORDS = [\"AUDIO\", \"STERN\", \"GLYPH\"]"
   ]
  },
  {
   "cell_type": "code",
   "execution_count": 7,
   "metadata": {},
   "outputs": [],
   "source": [
    "XPATH_A = '//div[@id=\"game-wrapper\"]/div[6]/div[2]/div[1]'\n",
    "browser.find_element(By.XPATH, XPATH_A).click()\n"
   ]
  },
  {
   "cell_type": "code",
   "execution_count": null,
   "metadata": {},
   "outputs": [],
   "source": [
    "XPATH_U = '//*[@id=\"game-wrapper\"]/div[6]/div[1]/div[7]'"
   ]
  },
  {
   "cell_type": "code",
   "execution_count": 9,
   "metadata": {},
   "outputs": [],
   "source": [
    "def create_xpath(line, order):    \n",
    "    return f'//*[@id=\"game-wrapper\"]/div[6]/div[{line}]/div[{order}]'"
   ]
  },
  {
   "cell_type": "code",
   "execution_count": null,
   "metadata": {},
   "outputs": [],
   "source": [
    "KEYBOARD = [\n",
    "    \"qwertyuiop\",\n",
    "    \"asdfghjkl\",\n",
    "    \"_zxcvbnm\"\n",
    "]\n",
    "\n",
    "def get_line_order(letter):\n",
    "    for index, line in enumerate(KEYBOARD):\n",
    "        if letter in line:\n",
    "            for order, ch in enumerate(line):\n",
    "                if ch == letter:\n",
    "                    return index + 1, order + 1\n",
    "\n"
   ]
  },
  {
   "cell_type": "code",
   "execution_count": 14,
   "metadata": {},
   "outputs": [
    {
     "data": {
      "text/plain": [
       "(2, 1)"
      ]
     },
     "execution_count": 14,
     "metadata": {},
     "output_type": "execute_result"
    }
   ],
   "source": [
    "index, order = get_line_order(\"a\")\n",
    "index, order"
   ]
  },
  {
   "cell_type": "code",
   "execution_count": 15,
   "metadata": {},
   "outputs": [],
   "source": [
    "def push_letter(letter):\n",
    "    line, order = get_line_order(letter)\n",
    "    xpath = create_xpath(line, order)\n",
    "    browser.find_element(By.XPATH, xpath).click()"
   ]
  },
  {
   "cell_type": "code",
   "execution_count": 22,
   "metadata": {},
   "outputs": [],
   "source": [
    "def press_enter():\n",
    "    ENTER = create_xpath(3, 9)\n",
    "    browser.find_element(By.XPATH, ENTER).click()"
   ]
  },
  {
   "cell_type": "code",
   "execution_count": 23,
   "metadata": {},
   "outputs": [],
   "source": [
    "press_enter()"
   ]
  },
  {
   "cell_type": "code",
   "execution_count": 24,
   "metadata": {},
   "outputs": [],
   "source": [
    "word_list = [\"audio\", \"stern\", \"glyph\"]\n",
    "for word in word_list:\n",
    "    for ch in word:\n",
    "        push_letter(ch)\n",
    "    press_enter()"
   ]
  }
 ],
 "metadata": {
  "kernelspec": {
   "display_name": "Python 3",
   "language": "python",
   "name": "python3"
  },
  "language_info": {
   "codemirror_mode": {
    "name": "ipython",
    "version": 3
   },
   "file_extension": ".py",
   "mimetype": "text/x-python",
   "name": "python",
   "nbconvert_exporter": "python",
   "pygments_lexer": "ipython3",
   "version": "3.12.0"
  }
 },
 "nbformat": 4,
 "nbformat_minor": 2
}
