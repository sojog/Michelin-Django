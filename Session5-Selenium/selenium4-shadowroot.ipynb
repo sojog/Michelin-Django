{
 "cells": [
  {
   "cell_type": "code",
   "execution_count": 1,
   "metadata": {},
   "outputs": [],
   "source": [
    "from selenium import webdriver\n",
    "from selenium.webdriver.common.by import By"
   ]
  },
  {
   "cell_type": "code",
   "execution_count": 2,
   "metadata": {},
   "outputs": [],
   "source": [
    "url = \"https://wordleunlimited.org/\" "
   ]
  },
  {
   "cell_type": "code",
   "execution_count": 3,
   "metadata": {},
   "outputs": [],
   "source": [
    "browser = webdriver.Chrome()\n",
    "browser.get(url)"
   ]
  },
  {
   "cell_type": "code",
   "execution_count": 4,
   "metadata": {},
   "outputs": [],
   "source": [
    "browser.find_element(By.CLASS_NAME, \"fc-button-label\").click()"
   ]
  },
  {
   "cell_type": "code",
   "execution_count": 5,
   "metadata": {},
   "outputs": [],
   "source": [
    "browser.execute_script('console.log(\"This message comes from SELENIUM\");')"
   ]
  },
  {
   "cell_type": "code",
   "execution_count": 6,
   "metadata": {},
   "outputs": [],
   "source": [
    "game_app = browser.find_element(By.TAG_NAME, \"game-app\")"
   ]
  },
  {
   "cell_type": "code",
   "execution_count": 16,
   "metadata": {},
   "outputs": [
    {
     "name": "stdout",
     "output_type": "stream",
     "text": [
      "<selenium.webdriver.remote.webelement.WebElement (session=\"6c82de5d6d8fa1cd3474e67e3ce3c50d\", element=\"f.32242E65789E574824051F9EEDEDE78D.d.323ED182DB7E13613776BFB1ADB09F69.e.419\")>\n"
     ]
    }
   ],
   "source": [
    "shadow_js_script = \"return arguments[0].shadowRoot.querySelector('game-theme-manager').querySelector('game-keyboard').shadowRoot.querySelector('#keyboard')\"\n",
    "inner_keyboard = browser.execute_script(shadow_js_script, game_app)\n",
    "print(inner_keyboard)"
   ]
  },
  {
   "cell_type": "code",
   "execution_count": 64,
   "metadata": {},
   "outputs": [],
   "source": [
    "inner_keyboard.find_element(By.XPATH, \".//div[2]/button[1]\").click()"
   ]
  },
  {
   "cell_type": "code",
   "execution_count": null,
   "metadata": {},
   "outputs": [],
   "source": [
    "def create_xpath(line, order):    \n",
    "    return f' .//div[{line}]/button[{order}]\")'"
   ]
  },
  {
   "cell_type": "code",
   "execution_count": 54,
   "metadata": {},
   "outputs": [],
   "source": [
    "KEYBOARD = [\n",
    "    \"qwertyuiop\",\n",
    "    \"asdfghjkl\",\n",
    "    \"_zxcvbnm\"\n",
    "]\n",
    "\n",
    "def get_line_order(letter):\n",
    "    for index, line in enumerate(KEYBOARD):\n",
    "        if letter in line:\n",
    "            for order, ch in enumerate(line):\n",
    "                if ch == letter:\n",
    "                    return index + 1, order + 1"
   ]
  },
  {
   "cell_type": "code",
   "execution_count": 58,
   "metadata": {},
   "outputs": [],
   "source": [
    "def push_letter(letter):\n",
    "    line, order = get_line_order(letter)\n",
    "    xpath = create_xpath(line, order)\n",
    "    print(xpath)\n",
    "    inner_keyboard.find_element(By.XPATH, xpath).click()"
   ]
  },
  {
   "cell_type": "code",
   "execution_count": 44,
   "metadata": {},
   "outputs": [],
   "source": [
    "def press_enter():\n",
    "    ENTER = create_xpath(3, 9)\n",
    "    inner_keyboard.find_element(By.XPATH, ENTER).click()"
   ]
  },
  {
   "cell_type": "code",
   "execution_count": 50,
   "metadata": {},
   "outputs": [
    {
     "name": "stdout",
     "output_type": "stream",
     "text": [
      ".//div[2]/button[1]\")\n"
     ]
    },
    {
     "ename": "InvalidSelectorException",
     "evalue": "Message: invalid selector\nfrom javascript error: {\"status\":32,\"value\":\"Unable to locate an element with the xpath expression .//div[2]/button[1]\\\") because of the following error:\\nSyntaxError: Failed to execute 'evaluate' on 'Document': The string './/div[2]/button[1]\\\")' is not a valid XPath expression.\"}\n  (Session info: chrome=130.0.6723.92); For documentation on this error, please visit: https://www.selenium.dev/documentation/webdriver/troubleshooting/errors#invalid-selector-exception\nStacktrace:\n0   chromedriver                        0x00000001053a3648 cxxbridge1$str$ptr + 3645404\n1   chromedriver                        0x000000010539bea8 cxxbridge1$str$ptr + 3614780\n2   chromedriver                        0x0000000104e08104 cxxbridge1$string$len + 88416\n3   chromedriver                        0x0000000104e0d19c cxxbridge1$string$len + 109048\n4   chromedriver                        0x0000000104e0e8a0 cxxbridge1$string$len + 114940\n5   chromedriver                        0x0000000104e0e918 cxxbridge1$string$len + 115060\n6   chromedriver                        0x0000000104e4a0a8 cxxbridge1$string$len + 358660\n7   chromedriver                        0x0000000104e408b0 cxxbridge1$string$len + 319756\n8   chromedriver                        0x0000000104e83bd0 cxxbridge1$string$len + 594988\n9   chromedriver                        0x0000000104e3ef54 cxxbridge1$string$len + 313264\n10  chromedriver                        0x0000000104e3fba4 cxxbridge1$string$len + 316416\n11  chromedriver                        0x000000010536e1e8 cxxbridge1$str$ptr + 3427196\n12  chromedriver                        0x000000010537152c cxxbridge1$str$ptr + 3440320\n13  chromedriver                        0x000000010535560c cxxbridge1$str$ptr + 3325856\n14  chromedriver                        0x0000000105371df0 cxxbridge1$str$ptr + 3442564\n15  chromedriver                        0x0000000105346890 cxxbridge1$str$ptr + 3265060\n16  chromedriver                        0x000000010538c898 cxxbridge1$str$ptr + 3551788\n17  chromedriver                        0x000000010538ca14 cxxbridge1$str$ptr + 3552168\n18  chromedriver                        0x000000010539bb40 cxxbridge1$str$ptr + 3613908\n19  libsystem_pthread.dylib             0x000000019105ffa8 _pthread_start + 148\n20  libsystem_pthread.dylib             0x000000019105ada0 thread_start + 8\n",
     "output_type": "error",
     "traceback": [
      "\u001b[0;31m---------------------------------------------------------------------------\u001b[0m",
      "\u001b[0;31mInvalidSelectorException\u001b[0m                  Traceback (most recent call last)",
      "Cell \u001b[0;32mIn[50], line 4\u001b[0m\n\u001b[1;32m      2\u001b[0m \u001b[38;5;28;01mfor\u001b[39;00m word \u001b[38;5;129;01min\u001b[39;00m word_list:\n\u001b[1;32m      3\u001b[0m     \u001b[38;5;28;01mfor\u001b[39;00m ch \u001b[38;5;129;01min\u001b[39;00m word:\n\u001b[0;32m----> 4\u001b[0m         \u001b[43mpush_letter\u001b[49m\u001b[43m(\u001b[49m\u001b[43mch\u001b[49m\u001b[43m)\u001b[49m\n\u001b[1;32m      5\u001b[0m     \u001b[38;5;66;03m# press_enter()\u001b[39;00m\n",
      "Cell \u001b[0;32mIn[47], line 5\u001b[0m, in \u001b[0;36mpush_letter\u001b[0;34m(letter)\u001b[0m\n\u001b[1;32m      3\u001b[0m xpath \u001b[38;5;241m=\u001b[39m create_xpath(line, order)\n\u001b[1;32m      4\u001b[0m \u001b[38;5;28mprint\u001b[39m(xpath)\n\u001b[0;32m----> 5\u001b[0m \u001b[43minner_keyboard\u001b[49m\u001b[38;5;241;43m.\u001b[39;49m\u001b[43mfind_element\u001b[49m\u001b[43m(\u001b[49m\u001b[43mBy\u001b[49m\u001b[38;5;241;43m.\u001b[39;49m\u001b[43mXPATH\u001b[49m\u001b[43m,\u001b[49m\u001b[43m \u001b[49m\u001b[43mxpath\u001b[49m\u001b[43m)\u001b[49m\u001b[38;5;241m.\u001b[39mclick()\n",
      "File \u001b[0;32m/Library/Frameworks/Python.framework/Versions/3.12/lib/python3.12/site-packages/selenium/webdriver/remote/webelement.py:417\u001b[0m, in \u001b[0;36mWebElement.find_element\u001b[0;34m(self, by, value)\u001b[0m\n\u001b[1;32m    414\u001b[0m     by \u001b[38;5;241m=\u001b[39m By\u001b[38;5;241m.\u001b[39mCSS_SELECTOR\n\u001b[1;32m    415\u001b[0m     value \u001b[38;5;241m=\u001b[39m \u001b[38;5;124mf\u001b[39m\u001b[38;5;124m'\u001b[39m\u001b[38;5;124m[name=\u001b[39m\u001b[38;5;124m\"\u001b[39m\u001b[38;5;132;01m{\u001b[39;00mvalue\u001b[38;5;132;01m}\u001b[39;00m\u001b[38;5;124m\"\u001b[39m\u001b[38;5;124m]\u001b[39m\u001b[38;5;124m'\u001b[39m\n\u001b[0;32m--> 417\u001b[0m \u001b[38;5;28;01mreturn\u001b[39;00m \u001b[38;5;28;43mself\u001b[39;49m\u001b[38;5;241;43m.\u001b[39;49m\u001b[43m_execute\u001b[49m\u001b[43m(\u001b[49m\u001b[43mCommand\u001b[49m\u001b[38;5;241;43m.\u001b[39;49m\u001b[43mFIND_CHILD_ELEMENT\u001b[49m\u001b[43m,\u001b[49m\u001b[43m \u001b[49m\u001b[43m{\u001b[49m\u001b[38;5;124;43m\"\u001b[39;49m\u001b[38;5;124;43musing\u001b[39;49m\u001b[38;5;124;43m\"\u001b[39;49m\u001b[43m:\u001b[49m\u001b[43m \u001b[49m\u001b[43mby\u001b[49m\u001b[43m,\u001b[49m\u001b[43m \u001b[49m\u001b[38;5;124;43m\"\u001b[39;49m\u001b[38;5;124;43mvalue\u001b[39;49m\u001b[38;5;124;43m\"\u001b[39;49m\u001b[43m:\u001b[49m\u001b[43m \u001b[49m\u001b[43mvalue\u001b[49m\u001b[43m}\u001b[49m\u001b[43m)\u001b[49m[\u001b[38;5;124m\"\u001b[39m\u001b[38;5;124mvalue\u001b[39m\u001b[38;5;124m\"\u001b[39m]\n",
      "File \u001b[0;32m/Library/Frameworks/Python.framework/Versions/3.12/lib/python3.12/site-packages/selenium/webdriver/remote/webelement.py:395\u001b[0m, in \u001b[0;36mWebElement._execute\u001b[0;34m(self, command, params)\u001b[0m\n\u001b[1;32m    393\u001b[0m     params \u001b[38;5;241m=\u001b[39m {}\n\u001b[1;32m    394\u001b[0m params[\u001b[38;5;124m\"\u001b[39m\u001b[38;5;124mid\u001b[39m\u001b[38;5;124m\"\u001b[39m] \u001b[38;5;241m=\u001b[39m \u001b[38;5;28mself\u001b[39m\u001b[38;5;241m.\u001b[39m_id\n\u001b[0;32m--> 395\u001b[0m \u001b[38;5;28;01mreturn\u001b[39;00m \u001b[38;5;28;43mself\u001b[39;49m\u001b[38;5;241;43m.\u001b[39;49m\u001b[43m_parent\u001b[49m\u001b[38;5;241;43m.\u001b[39;49m\u001b[43mexecute\u001b[49m\u001b[43m(\u001b[49m\u001b[43mcommand\u001b[49m\u001b[43m,\u001b[49m\u001b[43m \u001b[49m\u001b[43mparams\u001b[49m\u001b[43m)\u001b[49m\n",
      "File \u001b[0;32m/Library/Frameworks/Python.framework/Versions/3.12/lib/python3.12/site-packages/selenium/webdriver/remote/webdriver.py:354\u001b[0m, in \u001b[0;36mWebDriver.execute\u001b[0;34m(self, driver_command, params)\u001b[0m\n\u001b[1;32m    352\u001b[0m response \u001b[38;5;241m=\u001b[39m \u001b[38;5;28mself\u001b[39m\u001b[38;5;241m.\u001b[39mcommand_executor\u001b[38;5;241m.\u001b[39mexecute(driver_command, params)\n\u001b[1;32m    353\u001b[0m \u001b[38;5;28;01mif\u001b[39;00m response:\n\u001b[0;32m--> 354\u001b[0m     \u001b[38;5;28;43mself\u001b[39;49m\u001b[38;5;241;43m.\u001b[39;49m\u001b[43merror_handler\u001b[49m\u001b[38;5;241;43m.\u001b[39;49m\u001b[43mcheck_response\u001b[49m\u001b[43m(\u001b[49m\u001b[43mresponse\u001b[49m\u001b[43m)\u001b[49m\n\u001b[1;32m    355\u001b[0m     response[\u001b[38;5;124m\"\u001b[39m\u001b[38;5;124mvalue\u001b[39m\u001b[38;5;124m\"\u001b[39m] \u001b[38;5;241m=\u001b[39m \u001b[38;5;28mself\u001b[39m\u001b[38;5;241m.\u001b[39m_unwrap_value(response\u001b[38;5;241m.\u001b[39mget(\u001b[38;5;124m\"\u001b[39m\u001b[38;5;124mvalue\u001b[39m\u001b[38;5;124m\"\u001b[39m, \u001b[38;5;28;01mNone\u001b[39;00m))\n\u001b[1;32m    356\u001b[0m     \u001b[38;5;28;01mreturn\u001b[39;00m response\n",
      "File \u001b[0;32m/Library/Frameworks/Python.framework/Versions/3.12/lib/python3.12/site-packages/selenium/webdriver/remote/errorhandler.py:229\u001b[0m, in \u001b[0;36mErrorHandler.check_response\u001b[0;34m(self, response)\u001b[0m\n\u001b[1;32m    227\u001b[0m         alert_text \u001b[38;5;241m=\u001b[39m value[\u001b[38;5;124m\"\u001b[39m\u001b[38;5;124malert\u001b[39m\u001b[38;5;124m\"\u001b[39m]\u001b[38;5;241m.\u001b[39mget(\u001b[38;5;124m\"\u001b[39m\u001b[38;5;124mtext\u001b[39m\u001b[38;5;124m\"\u001b[39m)\n\u001b[1;32m    228\u001b[0m     \u001b[38;5;28;01mraise\u001b[39;00m exception_class(message, screen, stacktrace, alert_text)  \u001b[38;5;66;03m# type: ignore[call-arg]  # mypy is not smart enough here\u001b[39;00m\n\u001b[0;32m--> 229\u001b[0m \u001b[38;5;28;01mraise\u001b[39;00m exception_class(message, screen, stacktrace)\n",
      "\u001b[0;31mInvalidSelectorException\u001b[0m: Message: invalid selector\nfrom javascript error: {\"status\":32,\"value\":\"Unable to locate an element with the xpath expression .//div[2]/button[1]\\\") because of the following error:\\nSyntaxError: Failed to execute 'evaluate' on 'Document': The string './/div[2]/button[1]\\\")' is not a valid XPath expression.\"}\n  (Session info: chrome=130.0.6723.92); For documentation on this error, please visit: https://www.selenium.dev/documentation/webdriver/troubleshooting/errors#invalid-selector-exception\nStacktrace:\n0   chromedriver                        0x00000001053a3648 cxxbridge1$str$ptr + 3645404\n1   chromedriver                        0x000000010539bea8 cxxbridge1$str$ptr + 3614780\n2   chromedriver                        0x0000000104e08104 cxxbridge1$string$len + 88416\n3   chromedriver                        0x0000000104e0d19c cxxbridge1$string$len + 109048\n4   chromedriver                        0x0000000104e0e8a0 cxxbridge1$string$len + 114940\n5   chromedriver                        0x0000000104e0e918 cxxbridge1$string$len + 115060\n6   chromedriver                        0x0000000104e4a0a8 cxxbridge1$string$len + 358660\n7   chromedriver                        0x0000000104e408b0 cxxbridge1$string$len + 319756\n8   chromedriver                        0x0000000104e83bd0 cxxbridge1$string$len + 594988\n9   chromedriver                        0x0000000104e3ef54 cxxbridge1$string$len + 313264\n10  chromedriver                        0x0000000104e3fba4 cxxbridge1$string$len + 316416\n11  chromedriver                        0x000000010536e1e8 cxxbridge1$str$ptr + 3427196\n12  chromedriver                        0x000000010537152c cxxbridge1$str$ptr + 3440320\n13  chromedriver                        0x000000010535560c cxxbridge1$str$ptr + 3325856\n14  chromedriver                        0x0000000105371df0 cxxbridge1$str$ptr + 3442564\n15  chromedriver                        0x0000000105346890 cxxbridge1$str$ptr + 3265060\n16  chromedriver                        0x000000010538c898 cxxbridge1$str$ptr + 3551788\n17  chromedriver                        0x000000010538ca14 cxxbridge1$str$ptr + 3552168\n18  chromedriver                        0x000000010539bb40 cxxbridge1$str$ptr + 3613908\n19  libsystem_pthread.dylib             0x000000019105ffa8 _pthread_start + 148\n20  libsystem_pthread.dylib             0x000000019105ada0 thread_start + 8\n"
     ]
    }
   ],
   "source": [
    "word_list = [\"audio\"]\n",
    "for word in word_list:\n",
    "    for ch in word:\n",
    "        push_letter(ch)\n",
    "    # press_enter()"
   ]
  }
 ],
 "metadata": {
  "kernelspec": {
   "display_name": "Python 3",
   "language": "python",
   "name": "python3"
  },
  "language_info": {
   "codemirror_mode": {
    "name": "ipython",
    "version": 3
   },
   "file_extension": ".py",
   "mimetype": "text/x-python",
   "name": "python",
   "nbconvert_exporter": "python",
   "pygments_lexer": "ipython3",
   "version": "3.12.0"
  }
 },
 "nbformat": 4,
 "nbformat_minor": 2
}
