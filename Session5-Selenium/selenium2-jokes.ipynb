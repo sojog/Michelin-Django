{
 "cells": [
  {
   "cell_type": "code",
   "execution_count": 1,
   "metadata": {},
   "outputs": [],
   "source": [
    "from selenium import webdriver\n",
    "from selenium.webdriver.common.by import By\n",
    "from selenium.webdriver.common.keys import Keys"
   ]
  },
  {
   "cell_type": "code",
   "execution_count": 2,
   "metadata": {},
   "outputs": [],
   "source": [
    "driver = webdriver.Chrome()\n",
    "driver.get(\"https://icanhazdadjoke.com/\")"
   ]
  },
  {
   "cell_type": "code",
   "execution_count": 3,
   "metadata": {},
   "outputs": [],
   "source": [
    "# COOKIE BUTTON\n",
    "driver.find_element(By.CLASS_NAME, \"fc-button-label\").click()"
   ]
  },
  {
   "cell_type": "code",
   "execution_count": 36,
   "metadata": {},
   "outputs": [
    {
     "data": {
      "text/plain": [
       "\"What's orange and sounds like a parrot? A Carrot.\""
      ]
     },
     "execution_count": 36,
     "metadata": {},
     "output_type": "execute_result"
    }
   ],
   "source": [
    "# V1 - XPATH\n",
    "JOKE_XPATH = \"/html/body/section/div/div[2]/div/div/p\"\n",
    "JOKE_XPATH = \"/html/body/section/div//div/div/p\"\n",
    "driver.find_element(By.XPATH, JOKE_XPATH).text"
   ]
  },
  {
   "cell_type": "code",
   "execution_count": 12,
   "metadata": {},
   "outputs": [
    {
     "data": {
      "text/plain": [
       "\"My wife told me to rub the herbs on the meat for better flavor. That's sage advice.\""
      ]
     },
     "execution_count": 12,
     "metadata": {},
     "output_type": "execute_result"
    }
   ],
   "source": [
    "# V2 - CLASS\n",
    "JOKE_CLASS_NAME = 'subtitle'\n",
    "driver.find_elements(By.CLASS_NAME, JOKE_CLASS_NAME)[1].text"
   ]
  },
  {
   "cell_type": "code",
   "execution_count": 14,
   "metadata": {},
   "outputs": [],
   "source": [
    "# V3 - composed\n",
    "section_element = driver.find_element(By.TAG_NAME, \"section\")"
   ]
  },
  {
   "cell_type": "code",
   "execution_count": 16,
   "metadata": {},
   "outputs": [
    {
     "data": {
      "text/plain": [
       "\"My wife told me to rub the herbs on the meat for better flavor. That's sage advice.\""
      ]
     },
     "execution_count": 16,
     "metadata": {},
     "output_type": "execute_result"
    }
   ],
   "source": [
    "section_element.find_element(By.CLASS_NAME, JOKE_CLASS_NAME).text"
   ]
  },
  {
   "cell_type": "code",
   "execution_count": 19,
   "metadata": {},
   "outputs": [],
   "source": [
    "## REFRESH THE PAGE\n",
    "driver.get(\"https://icanhazdadjoke.com/\")"
   ]
  },
  {
   "cell_type": "code",
   "execution_count": 24,
   "metadata": {},
   "outputs": [],
   "source": [
    "REFRESH_PATH = \"/html/body/section/div/div[1]/div[2]/a\"\n",
    "driver.find_element(By.XPATH, REFRESH_PATH).click()"
   ]
  },
  {
   "cell_type": "code",
   "execution_count": 26,
   "metadata": {},
   "outputs": [],
   "source": [
    "REFRESH_CLASS_NAME = \"button\"\n",
    "driver.find_element(By.CLASS_NAME, REFRESH_CLASS_NAME).click()"
   ]
  },
  {
   "cell_type": "code",
   "execution_count": 34,
   "metadata": {},
   "outputs": [],
   "source": [
    "REFRESH_JS_PATH = 'body > section > div > div.level > div.level-right > a'\n",
    "driver.find_element(By.CSS_SELECTOR, REFRESH_JS_PATH).click()"
   ]
  }
 ],
 "metadata": {
  "kernelspec": {
   "display_name": "Python 3",
   "language": "python",
   "name": "python3"
  },
  "language_info": {
   "codemirror_mode": {
    "name": "ipython",
    "version": 3
   },
   "file_extension": ".py",
   "mimetype": "text/x-python",
   "name": "python",
   "nbconvert_exporter": "python",
   "pygments_lexer": "ipython3",
   "version": "3.12.0"
  }
 },
 "nbformat": 4,
 "nbformat_minor": 2
}
